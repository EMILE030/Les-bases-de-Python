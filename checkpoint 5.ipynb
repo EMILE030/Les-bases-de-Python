{
 "cells": [
  {
   "cell_type": "code",
   "execution_count": 3,
   "id": "978c34da",
   "metadata": {},
   "outputs": [
    {
     "name": "stdout",
     "output_type": "stream",
     "text": [
      "Saisir le nombre : \n",
      "None8\n",
      "8!=8x7x6x5x4x3x2x1\n",
      "40320\n"
     ]
    }
   ],
   "source": [
    "nombre = int(input(print(\"Saisir le nombre : \"))) #saisi le nombre\n",
    "resultat = '' #initialise une chaine vide\n",
    "calcul = nombre #initialise le calcul\n",
    "if nombre == 0:\n",
    "    resultat = str(nombre) +\"!=\"+str(1)\n",
    "    calcul = 1\n",
    "else:\n",
    "    resultat = str(nombre) +\"!=\"+str(nombre)\n",
    "    for i in range(nombre-1, 0, -1): #nombre-1=depart 0=arrivée exclu -1=pas/saut\n",
    "        resultat += \"x\" +str(i)\n",
    "    for i in range(nombre-1, 0, -1):\n",
    "        calcul*=i\n",
    "print(resultat)\n",
    "print(calcul)"
   ]
  },
  {
   "cell_type": "code",
   "execution_count": null,
   "id": "b5e46ec3",
   "metadata": {},
   "outputs": [],
   "source": []
  }
 ],
 "metadata": {
  "kernelspec": {
   "display_name": "Python 3 (ipykernel)",
   "language": "python",
   "name": "python3"
  },
  "language_info": {
   "codemirror_mode": {
    "name": "ipython",
    "version": 3
   },
   "file_extension": ".py",
   "mimetype": "text/x-python",
   "name": "python",
   "nbconvert_exporter": "python",
   "pygments_lexer": "ipython3",
   "version": "3.9.7"
  }
 },
 "nbformat": 4,
 "nbformat_minor": 5
}

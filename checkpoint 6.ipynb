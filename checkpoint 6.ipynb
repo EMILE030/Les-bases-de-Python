{
 "cells": [
  {
   "cell_type": "code",
   "execution_count": 2,
   "id": "273e8dfb",
   "metadata": {},
   "outputs": [
    {
     "name": "stdout",
     "output_type": "stream",
     "text": [
      "Saisir la chaine : \n",
      "Nonehello team\n",
      "hlota\n"
     ]
    }
   ],
   "source": [
    "chaine = input(print(\"Saisir la chaine : \")) #saisi la chaine\n",
    "newChaine = ''\n",
    "for i in range(len(chaine)):\n",
    "    if i%2 == 0:\n",
    "        newChaine += chaine[i]\n",
    "print(newChaine)"
   ]
  },
  {
   "cell_type": "code",
   "execution_count": null,
   "id": "d95305fe",
   "metadata": {},
   "outputs": [],
   "source": []
  }
 ],
 "metadata": {
  "kernelspec": {
   "display_name": "Python 3 (ipykernel)",
   "language": "python",
   "name": "python3"
  },
  "language_info": {
   "codemirror_mode": {
    "name": "ipython",
    "version": 3
   },
   "file_extension": ".py",
   "mimetype": "text/x-python",
   "name": "python",
   "nbconvert_exporter": "python",
   "pygments_lexer": "ipython3",
   "version": "3.9.7"
  }
 },
 "nbformat": 4,
 "nbformat_minor": 5
}

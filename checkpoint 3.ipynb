{
 "cells": [
  {
   "cell_type": "code",
   "execution_count": 3,
   "id": "18cc00f6",
   "metadata": {},
   "outputs": [
    {
     "name": "stdout",
     "output_type": "stream",
     "text": [
      "saisir une valeur 11\n",
      "la valeur est impair\n"
     ]
    }
   ],
   "source": [
    "valeur=int(input('saisir une valeur '))\n",
    "valeur=valeur%2\n",
    "if valeur==0:\n",
    "    print(\"la valeur est pair\")\n",
    "else:\n",
    "    print(\"la valeur est impair\")"
   ]
  },
  {
   "cell_type": "code",
   "execution_count": null,
   "id": "f54906cd",
   "metadata": {},
   "outputs": [],
   "source": []
  },
  {
   "cell_type": "code",
   "execution_count": null,
   "id": "c8a506db",
   "metadata": {},
   "outputs": [],
   "source": []
  }
 ],
 "metadata": {
  "kernelspec": {
   "display_name": "Python 3 (ipykernel)",
   "language": "python",
   "name": "python3"
  },
  "language_info": {
   "codemirror_mode": {
    "name": "ipython",
    "version": 3
   },
   "file_extension": ".py",
   "mimetype": "text/x-python",
   "name": "python",
   "nbconvert_exporter": "python",
   "pygments_lexer": "ipython3",
   "version": "3.9.7"
  }
 },
 "nbformat": 4,
 "nbformat_minor": 5
}

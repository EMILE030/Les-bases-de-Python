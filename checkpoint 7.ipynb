{
 "cells": [
  {
   "cell_type": "code",
   "execution_count": 6,
   "id": "a80665db",
   "metadata": {},
   "outputs": [
    {
     "name": "stdout",
     "output_type": "stream",
     "text": [
      "saisir une valeur 580\n",
      "vous avez une remise de 50%\n"
     ]
    }
   ],
   "source": [
    "valeur=input(\"saisir une valeur \")\n",
    "valeur=int(valeur)\n",
    "if valeur>=500:\n",
    "    remise=50\n",
    "elif 200<=valeur<500:\n",
    "    remise=30\n",
    "elif valeur<200:\n",
    "    remise=20\n",
    "print(\"vous avez une remise de \"+ str(remise) +\"%\")"
   ]
  },
  {
   "cell_type": "code",
   "execution_count": null,
   "id": "b8bcca54",
   "metadata": {},
   "outputs": [],
   "source": []
  }
 ],
 "metadata": {
  "kernelspec": {
   "display_name": "Python 3 (ipykernel)",
   "language": "python",
   "name": "python3"
  },
  "language_info": {
   "codemirror_mode": {
    "name": "ipython",
    "version": 3
   },
   "file_extension": ".py",
   "mimetype": "text/x-python",
   "name": "python",
   "nbconvert_exporter": "python",
   "pygments_lexer": "ipython3",
   "version": "3.9.7"
  }
 },
 "nbformat": 4,
 "nbformat_minor": 5
}

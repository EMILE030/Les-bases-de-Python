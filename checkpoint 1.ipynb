{
 "cells": [
  {
   "cell_type": "code",
   "execution_count": 1,
   "id": "f8c0bdf8",
   "metadata": {},
   "outputs": [
    {
     "name": "stdout",
     "output_type": "stream",
     "text": [
      "saisir votre prenom emile\n",
      "saisir votre nom diagne\n",
      "vous vous appellez diagne emile\n"
     ]
    }
   ],
   "source": [
    "prenom=input(\"saisir votre prenom \")\n",
    "nom=input(\"saisir votre nom \")\n",
    "print(\"vous vous appellez \"+nom +\" \"+prenom)"
   ]
  },
  {
   "cell_type": "code",
   "execution_count": null,
   "id": "198094ed",
   "metadata": {},
   "outputs": [],
   "source": []
  }
 ],
 "metadata": {
  "kernelspec": {
   "display_name": "Python 3 (ipykernel)",
   "language": "python",
   "name": "python3"
  },
  "language_info": {
   "codemirror_mode": {
    "name": "ipython",
    "version": 3
   },
   "file_extension": ".py",
   "mimetype": "text/x-python",
   "name": "python",
   "nbconvert_exporter": "python",
   "pygments_lexer": "ipython3",
   "version": "3.9.7"
  }
 },
 "nbformat": 4,
 "nbformat_minor": 5
}
